{
  "nbformat": 4,
  "nbformat_minor": 0,
  "metadata": {
    "colab": {
      "name": "DRL_18_Policy-Based-Methods.ipynb",
      "provenance": [],
      "collapsed_sections": []
    },
    "kernelspec": {
      "name": "python3",
      "display_name": "Python 3"
    }
  },
  "cells": [
    {
      "cell_type": "markdown",
      "metadata": {
        "id": "40Yb47zJQglm"
      },
      "source": [
        "# **Policy-Based Methods**\n",
        "### Hill Climbing algorithm"
      ]
    },
    {
      "cell_type": "markdown",
      "metadata": {
        "id": "Q40Fa7qM4_lE"
      },
      "source": [
        "Import necessary packages"
      ]
    },
    {
      "cell_type": "code",
      "metadata": {
        "id": "FA1Y5VCv20XZ"
      },
      "source": [
        "import gym\n",
        "import numpy as np\n",
        "from collections import deque\n",
        "import matplotlib.pyplot as plt"
      ],
      "execution_count": 29,
      "outputs": []
    },
    {
      "cell_type": "markdown",
      "metadata": {
        "id": "4m0Vm4Yp91ZI"
      },
      "source": [
        "###Tunning the image rendering in colab\n"
      ]
    },
    {
      "cell_type": "code",
      "metadata": {
        "id": "kgpHXywd5SyZ",
        "colab": {
          "base_uri": "https://localhost:8080/"
        },
        "outputId": "4dfc2676-db21-45b1-9f67-8934887f1a8a"
      },
      "source": [
        "\n",
        "!apt-get install -y xvfb x11-utils\n",
        "\n",
        "!pip install pyvirtualdisplay==0.2.* \\\n",
        "             PyOpenGL==3.1.* \\\n",
        "             PyOpenGL-accelerate==3.1.*\n",
        "\n",
        "!pip install gym[box2d]==0.17.*\n",
        "\n",
        "\n",
        "!sudo apt-get update\n",
        "!sudo apt-get install xvfb --fix-missing\n",
        "\n",
        "import pyvirtualdisplay\n",
        "\n",
        "_display = pyvirtualdisplay.Display(visible=False, size=(1400, 900))\n",
        "_ = _display.start()\n",
        "\n",
        "!echo $DISPLAY \n",
        "\n",
        "from IPython import display"
      ],
      "execution_count": 30,
      "outputs": [
        {
          "output_type": "stream",
          "name": "stdout",
          "text": [
            "Reading package lists... Done\n",
            "Building dependency tree       \n",
            "Reading state information... Done\n",
            "x11-utils is already the newest version (7.7+3build1).\n",
            "xvfb is already the newest version (2:1.19.6-1ubuntu4.10).\n",
            "The following package was automatically installed and is no longer required:\n",
            "  libnvidia-common-460\n",
            "Use 'apt autoremove' to remove it.\n",
            "0 upgraded, 0 newly installed, 0 to remove and 53 not upgraded.\n",
            "Looking in indexes: https://pypi.org/simple, https://us-python.pkg.dev/colab-wheels/public/simple/\n",
            "Requirement already satisfied: pyvirtualdisplay==0.2.* in /usr/local/lib/python3.7/dist-packages (0.2.5)\n",
            "Requirement already satisfied: PyOpenGL==3.1.* in /usr/local/lib/python3.7/dist-packages (3.1.6)\n",
            "Requirement already satisfied: PyOpenGL-accelerate==3.1.* in /usr/local/lib/python3.7/dist-packages (3.1.5)\n",
            "Requirement already satisfied: EasyProcess in /usr/local/lib/python3.7/dist-packages (from pyvirtualdisplay==0.2.*) (1.1)\n",
            "Looking in indexes: https://pypi.org/simple, https://us-python.pkg.dev/colab-wheels/public/simple/\n",
            "Requirement already satisfied: gym[box2d]==0.17.* in /usr/local/lib/python3.7/dist-packages (0.17.3)\n",
            "Requirement already satisfied: cloudpickle<1.7.0,>=1.2.0 in /usr/local/lib/python3.7/dist-packages (from gym[box2d]==0.17.*) (1.3.0)\n",
            "Requirement already satisfied: pyglet<=1.5.0,>=1.4.0 in /usr/local/lib/python3.7/dist-packages (from gym[box2d]==0.17.*) (1.5.0)\n",
            "Requirement already satisfied: scipy in /usr/local/lib/python3.7/dist-packages (from gym[box2d]==0.17.*) (1.4.1)\n",
            "Requirement already satisfied: numpy>=1.10.4 in /usr/local/lib/python3.7/dist-packages (from gym[box2d]==0.17.*) (1.21.6)\n",
            "Requirement already satisfied: box2d-py~=2.3.5 in /usr/local/lib/python3.7/dist-packages (from gym[box2d]==0.17.*) (2.3.8)\n",
            "Requirement already satisfied: future in /usr/local/lib/python3.7/dist-packages (from pyglet<=1.5.0,>=1.4.0->gym[box2d]==0.17.*) (0.16.0)\n",
            "Hit:1 https://developer.download.nvidia.com/compute/cuda/repos/ubuntu1804/x86_64  InRelease\n",
            "Hit:2 https://cloud.r-project.org/bin/linux/ubuntu bionic-cran40/ InRelease\n",
            "Hit:3 http://security.ubuntu.com/ubuntu bionic-security InRelease\n",
            "Ign:4 https://developer.download.nvidia.com/compute/machine-learning/repos/ubuntu1804/x86_64  InRelease\n",
            "Hit:5 https://developer.download.nvidia.com/compute/machine-learning/repos/ubuntu1804/x86_64  Release\n",
            "Hit:6 http://ppa.launchpad.net/c2d4u.team/c2d4u4.0+/ubuntu bionic InRelease\n",
            "Hit:7 http://archive.ubuntu.com/ubuntu bionic InRelease\n",
            "Hit:8 http://archive.ubuntu.com/ubuntu bionic-updates InRelease\n",
            "Hit:9 http://ppa.launchpad.net/cran/libgit2/ubuntu bionic InRelease\n",
            "Hit:10 http://archive.ubuntu.com/ubuntu bionic-backports InRelease\n",
            "Hit:12 http://ppa.launchpad.net/deadsnakes/ppa/ubuntu bionic InRelease\n",
            "Hit:13 http://ppa.launchpad.net/graphics-drivers/ppa/ubuntu bionic InRelease\n",
            "Reading package lists... Done\n",
            "Reading package lists... Done\n",
            "Building dependency tree       \n",
            "Reading state information... Done\n",
            "xvfb is already the newest version (2:1.19.6-1ubuntu4.10).\n",
            "The following package was automatically installed and is no longer required:\n",
            "  libnvidia-common-460\n",
            "Use 'sudo apt autoremove' to remove it.\n",
            "0 upgraded, 0 newly installed, 0 to remove and 53 not upgraded.\n",
            ":1009\n"
          ]
        }
      ]
    },
    {
      "cell_type": "markdown",
      "metadata": {
        "id": "JKCArPYvBkYi"
      },
      "source": [
        "OpenAI Gym's Cartpole Environment"
      ]
    },
    {
      "cell_type": "code",
      "metadata": {
        "id": "_3_4zOdQBl2g",
        "colab": {
          "base_uri": "https://localhost:8080/"
        },
        "outputId": "2b5d9e8b-9b9e-4fa9-8b8f-49e28340f66d"
      },
      "source": [
        "env = gym.make('CartPole-v0')\n",
        "print('observation space:', env.observation_space)\n",
        "print('action space:', env.action_space)\n",
        "print('threshold: ', env.spec.reward_threshold)\n"
      ],
      "execution_count": 31,
      "outputs": [
        {
          "output_type": "stream",
          "name": "stdout",
          "text": [
            "observation space: Box(-3.4028234663852886e+38, 3.4028234663852886e+38, (4,), float32)\n",
            "action space: Discrete(2)\n",
            "threshold:  195.0\n"
          ]
        }
      ]
    },
    {
      "cell_type": "markdown",
      "metadata": {
        "id": "NJC916BU-9L6"
      },
      "source": [
        "\n",
        "Define  policy π (and initialize with random weights θ)"
      ]
    },
    {
      "cell_type": "code",
      "metadata": {
        "id": "gRVXyg9A1zQh"
      },
      "source": [
        "class Policy():\n",
        "    def __init__(self, s_size=4, a_size=2):\n",
        "    \n",
        "        self.θ = 1e-4*np.random.rand(s_size, a_size)  \n",
        "        \n",
        "    def forward(self, state):\n",
        "        x = np.dot(state, self.θ)\n",
        "        return np.exp(x)/sum(np.exp(x))\n",
        "    \n",
        "    def act(self, state):\n",
        "        probs = self.forward(state)\n",
        "        action = np.argmax(probs)             \n",
        "        return action\n"
      ],
      "execution_count": 32,
      "outputs": []
    },
    {
      "cell_type": "markdown",
      "metadata": {
        "id": "9R3_QsYSBzYn"
      },
      "source": [
        "Render Cartpole Environment before train"
      ]
    },
    {
      "cell_type": "code",
      "metadata": {
        "id": "OhhqfVxD28VZ"
      },
      "source": [
        "def watch_agent():\n",
        "  env = gym.make('CartPole-v0')\n",
        "  state = env.reset()\n",
        "  rewards = []\n",
        "  img = plt.imshow(env.render(mode='rgb_array'))\n",
        "  for t in range(2000):\n",
        "    action = policy.act(state)\n",
        "    img.set_data(env.render(mode='rgb_array')) \n",
        "    plt.axis('off')\n",
        "    display.display(plt.gcf())\n",
        "    display.clear_output(wait=True)\n",
        "    state, reward, done, _ = env.step(action)\n",
        "    rewards.append(reward)\n",
        "    if done:\n",
        "        print(\"Reward:\", sum([r for r in rewards]))\n",
        "        break \n",
        "  env.close()"
      ],
      "execution_count": 33,
      "outputs": []
    },
    {
      "cell_type": "code",
      "metadata": {
        "id": "WGK84ymx26sQ",
        "colab": {
          "base_uri": "https://localhost:8080/"
        },
        "outputId": "60712a7f-105f-42b0-cea9-d2ef1128ce8d"
      },
      "source": [
        "policy = Policy()\n",
        "print (\"Policy weights θ before train:\\n\", policy.θ)"
      ],
      "execution_count": 34,
      "outputs": [
        {
          "output_type": "stream",
          "name": "stdout",
          "text": [
            "Policy weights θ before train:\n",
            " [[9.63662761e-05 3.83441519e-05]\n",
            " [7.91725038e-05 5.28894920e-05]\n",
            " [5.68044561e-05 9.25596638e-05]\n",
            " [7.10360582e-06 8.71292997e-06]]\n"
          ]
        }
      ]
    },
    {
      "cell_type": "code",
      "metadata": {
        "id": "TT-xoG5VA9rZ",
        "colab": {
          "base_uri": "https://localhost:8080/",
          "height": 265
        },
        "outputId": "38a4a538-9010-411d-c5a8-66ba33292de6"
      },
      "source": [
        "watch_agent()"
      ],
      "execution_count": 35,
      "outputs": [
        {
          "output_type": "stream",
          "name": "stdout",
          "text": [
            "Reward: 36.0\n"
          ]
        },
        {
          "output_type": "display_data",
          "data": {
            "text/plain": [
              "<Figure size 432x288 with 1 Axes>"
            ],
            "image/png": "[encoded data removed]"
          },
          "metadata": {
            "needs_background": "light"
          }
        }
      ]
    },
    {
      "cell_type": "code",
      "metadata": {
        "id": "rL8ZBRUzDtMp",
        "colab": {
          "base_uri": "https://localhost:8080/",
          "height": 265
        },
        "outputId": "78bd0425-916e-4fd2-b54d-971014e6c3aa"
      },
      "source": [
        "watch_agent()"
      ],
      "execution_count": 36,
      "outputs": [
        {
          "output_type": "stream",
          "name": "stdout",
          "text": [
            "Reward: 51.0\n"
          ]
        },
        {
          "output_type": "display_data",
          "data": {
            "text/plain": [
              "<Figure size 432x288 with 1 Axes>"
            ],
            "image/png": "[encoded data removed]"
          },
          "metadata": {
            "needs_background": "light"
          }
        }
      ]
    },
    {
      "cell_type": "markdown",
      "metadata": {
        "id": "qbSa19Iw3rkT"
      },
      "source": [
        "Train the Agent with Hill Climbing "
      ]
    },
    {
      "cell_type": "code",
      "metadata": {
        "id": "5gGKED9B3rBt",
        "colab": {
          "base_uri": "https://localhost:8080/"
        },
        "outputId": "fd57eb97-714f-4496-9ca8-d42abac70184"
      },
      "source": [
        "env = gym.make('CartPole-v0')\n",
        "env.seed(0)\n",
        "np.random.seed(0)\n",
        "\n",
        "\n",
        "def hill_climbing(n_episodes=50000, gamma=0.9, noise=1e-2):\n",
        "    \n",
        "    scores_deque = deque(maxlen=100)\n",
        "    scores = []\n",
        "    Gbest = -np.Inf\n",
        "    θbest = policy.θ\n",
        "    for i_episode in range(1, n_episodes+1):\n",
        "        rewards = []\n",
        "        state = env.reset()\n",
        "        while True:\n",
        "            action = policy.act(state)\n",
        "            state, reward, done, _ = env.step(action)\n",
        "            rewards.append(reward)\n",
        "            if done:\n",
        "                break \n",
        "        scores_deque.append(sum(rewards))\n",
        "        scores.append(sum(rewards))\n",
        "\n",
        "        discounts = [gamma**i for i in range(len(rewards)+1)]\n",
        "        G = sum([a*b for a,b in zip(discounts, rewards)])\n",
        "\n",
        "        if G >= Gbest: \n",
        "            Gbest = G\n",
        "            θbest = policy.θ\n",
        "        \n",
        "        \n",
        "        policy.θ = θbest + noise * np.random.rand(*policy.θ.shape)\n",
        "\n",
        "        if i_episode % 10 == 0:\n",
        "            print('Episode {}\\tAverage Score: {:.2f}'.format(i_episode, np.mean(scores_deque)))\n",
        "\n",
        "        \n",
        "        if np.mean(scores_deque)>=env.spec.reward_threshold:\n",
        "            print('Environment solved in {:d} episodes!\\tAverage Score: {:.2f}'.format(i_episode, np.mean(scores_deque)))\n",
        "            policy.θ = θbest\n",
        "            break\n",
        "        \n",
        "    return scores\n",
        "            \n",
        "scores = hill_climbing(gamma=0.95)"
      ],
      "execution_count": 37,
      "outputs": [
        {
          "output_type": "stream",
          "name": "stdout",
          "text": [
            "Episode 10\tAverage Score: 69.20\n",
            "Episode 20\tAverage Score: 99.75\n",
            "Episode 30\tAverage Score: 125.10\n",
            "Episode 40\tAverage Score: 136.65\n",
            "Episode 50\tAverage Score: 146.62\n",
            "Episode 60\tAverage Score: 150.27\n",
            "Episode 70\tAverage Score: 155.09\n",
            "Episode 80\tAverage Score: 160.70\n",
            "Episode 90\tAverage Score: 162.22\n",
            "Episode 100\tAverage Score: 164.64\n",
            "Episode 110\tAverage Score: 177.09\n",
            "Episode 120\tAverage Score: 172.41\n",
            "Episode 130\tAverage Score: 174.83\n",
            "Episode 140\tAverage Score: 177.70\n",
            "Episode 150\tAverage Score: 179.05\n",
            "Episode 160\tAverage Score: 182.20\n",
            "Episode 170\tAverage Score: 183.80\n",
            "Episode 180\tAverage Score: 182.65\n",
            "Episode 190\tAverage Score: 185.21\n",
            "Episode 200\tAverage Score: 185.99\n",
            "Episode 210\tAverage Score: 186.62\n",
            "Environment solved in 216 episodes!\tAverage Score: 195.59\n"
          ]
        }
      ]
    },
    {
      "cell_type": "markdown",
      "metadata": {
        "id": "ONPYWICR3z63"
      },
      "source": [
        "Plot the scores during training\n",
        "\n"
      ]
    },
    {
      "cell_type": "code",
      "metadata": {
        "id": "pk1Q1l7R30-t",
        "colab": {
          "base_uri": "https://localhost:8080/",
          "height": 279
        },
        "outputId": "be7b22c4-edbd-4ae7-d918-bbc2bbfda1d2"
      },
      "source": [
        "fig = plt.figure()\n",
        "plt.plot(np.arange(1, len(scores)+1), scores)\n",
        "plt.ylabel('Score')\n",
        "plt.xlabel('Episode #')\n",
        "plt.show()"
      ],
      "execution_count": 38,
      "outputs": [
        {
          "output_type": "display_data",
          "data": {
            "text/plain": [
              "<Figure size 432x288 with 1 Axes>"
            ],
            "image/png": "[encoded data removed]"
          },
          "metadata": {
            "needs_background": "light"
          }
        }
      ]
    },
    {
      "cell_type": "code",
      "metadata": {
        "id": "nqZoAT8x3wyn",
        "colab": {
          "base_uri": "https://localhost:8080/"
        },
        "outputId": "e74cf80e-3caf-4781-ad10-e04b36f588f8"
      },
      "source": [
        "print (\"Policy weights θ after train:\\n\", policy.θ)"
      ],
      "execution_count": 39,
      "outputs": [
        {
          "output_type": "stream",
          "name": "stdout",
          "text": [
            "Policy weights θ after train:\n",
            " [[0.8084713  0.81630923]\n",
            " [0.81886572 0.84066647]\n",
            " [0.83559449 0.86616117]\n",
            " [0.78410222 0.86296585]]\n"
          ]
        }
      ]
    },
    {
      "cell_type": "markdown",
      "metadata": {
        "id": "SsanK3ds37qN"
      },
      "source": [
        "Watch a trained Agent!"
      ]
    },
    {
      "cell_type": "code",
      "metadata": {
        "id": "gN9sT4JD35XS",
        "colab": {
          "base_uri": "https://localhost:8080/",
          "height": 265
        },
        "outputId": "e8799dec-b6bb-481d-a282-bcdb0afd74ac"
      },
      "source": [
        "watch_agent()"
      ],
      "execution_count": 40,
      "outputs": [
        {
          "output_type": "stream",
          "name": "stdout",
          "text": [
            "Reward: 200.0\n"
          ]
        },
        {
          "output_type": "display_data",
          "data": {
            "text/plain": [
              "<Figure size 432x288 with 1 Axes>"
            ],
            "image/png": "[encoded data removed]"
          },
          "metadata": {
            "needs_background": "light"
          }
        }
      ]
    },
    {
      "cell_type": "code",
      "metadata": {
        "id": "pa_GPs4FDyRg",
        "colab": {
          "base_uri": "https://localhost:8080/",
          "height": 265
        },
        "outputId": "54169a73-0435-4c6e-a850-bb4ac83aef91"
      },
      "source": [
        "watch_agent()"
      ],
      "execution_count": 41,
      "outputs": [
        {
          "output_type": "stream",
          "name": "stdout",
          "text": [
            "Reward: 200.0\n"
          ]
        },
        {
          "output_type": "display_data",
          "data": {
            "text/plain": [
              "<Figure size 432x288 with 1 Axes>"
            ],
            "image/png": "[encoded data removed]"
          },
          "metadata": {
            "needs_background": "light"
          }
        }
      ]
    }
  ]
}